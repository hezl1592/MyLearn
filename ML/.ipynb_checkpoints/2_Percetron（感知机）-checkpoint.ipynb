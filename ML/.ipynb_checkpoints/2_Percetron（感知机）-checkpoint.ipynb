{
 "cells": [
  {
   "cell_type": "code",
   "execution_count": 1,
   "metadata": {
    "ExecuteTime": {
     "end_time": "2019-01-05T13:14:49.667538Z",
     "start_time": "2019-01-05T13:14:38.373724Z"
    }
   },
   "outputs": [],
   "source": [
    "import numpy as np\n",
    "import matplotlib.pyplot as plt\n",
    "import pandas as pd\n",
    "from sklearn.linear_model import Perceptron\n",
    "from sklearn.datasets import load_iris\n",
    "import matplotlib as mpl"
   ]
  },
  {
   "cell_type": "code",
   "execution_count": 2,
   "metadata": {
    "ExecuteTime": {
     "end_time": "2019-01-05T13:14:54.660627Z",
     "start_time": "2019-01-05T13:14:54.654555Z"
    }
   },
   "outputs": [],
   "source": [
    "# 指定显示字体，防止中文乱码\n",
    "mpl.rcParams['font.sans-serif'] = ['SimHei']\n",
    "mpl.rcParams['axes.unicode_minus'] = False\n",
    "plt.rcParams['savefig.dpi'] = 1000  # 保存的图片像素"
   ]
  },
  {
   "cell_type": "code",
   "execution_count": 53,
   "metadata": {
    "ExecuteTime": {
     "end_time": "2019-01-05T14:41:32.840962Z",
     "start_time": "2019-01-05T14:41:32.552616Z"
    }
   },
   "outputs": [
    {
     "data": {
      "image/png": "[encoded data removed]",
      "text/plain": [
       "<Figure size 432x288 with 1 Axes>"
      ]
     },
     "metadata": {
      "needs_background": "light"
     },
     "output_type": "display_data"
    }
   ],
   "source": [
    "def getdata():\n",
    "    iris = load_iris()\n",
    "    df = pd.DataFrame(iris.data, columns=iris.feature_names)\n",
    "    df['label'] = iris.target\n",
    "    df.columns = ['sepal length', 'sepal width',\n",
    "                  'petal length', 'petal width', 'label']\n",
    "#     print(df.label.value_counts())\n",
    "#     print(df)\n",
    "#     print(df[df['label'] == 0].count())\n",
    "#     print(df[df['label'] == 1].count())\n",
    "#     print(df[df['label'] == 2].count())\n",
    "#     print((df['label'] == 0).count())\n",
    "    x = np.zeros(((100,2)))\n",
    "    x[:,0] = df[0:100]['sepal length']\n",
    "    x[:,1] = df[0:100]['sepal width']\n",
    "    y = np.zeros((100,1))\n",
    "    y = df[0:100]['label']\n",
    "    plt.figure(0)\n",
    "    plt.scatter(x[:,0], x[:,1], c=y)\n",
    "#     plt.scatter(df[50:100]['sepal length'], df[50:100]['sepal width'], label='1')\n",
    "    plt.xlabel('sepal length')\n",
    "    plt.ylabel('sepal width')\n",
    "#     plt.legend()\n",
    "    plt.show()\n",
    "    \n",
    "    return x,y\n",
    "\n",
    "x, y = getdata()"
   ]
  },
  {
   "cell_type": "markdown",
   "metadata": {},
   "source": [
    "### sklearn.linear_model.Percepron"
   ]
  },
  {
   "cell_type": "code",
   "execution_count": 90,
   "metadata": {
    "ExecuteTime": {
     "end_time": "2019-01-05T15:07:49.156859Z",
     "start_time": "2019-01-05T15:07:49.143664Z"
    }
   },
   "outputs": [
    {
     "data": {
      "text/plain": [
       "Perceptron(alpha=0.0001, class_weight=None, early_stopping=False, eta0=1.0,\n",
       "      fit_intercept=True, max_iter=10000, n_iter=None, n_iter_no_change=5,\n",
       "      n_jobs=None, penalty=None, random_state=0, shuffle=True, tol=1e-05,\n",
       "      validation_fraction=0.1, verbose=0, warm_start=False)"
      ]
     },
     "execution_count": 90,
     "metadata": {},
     "output_type": "execute_result"
    }
   ],
   "source": [
    "model = Perceptron(fit_intercept=True, max_iter=10000, shuffle=True, tol=1e-5)\n",
    "model.fit(x,y)"
   ]
  },
  {
   "cell_type": "code",
   "execution_count": 91,
   "metadata": {
    "ExecuteTime": {
     "end_time": "2019-01-05T15:07:50.080417Z",
     "start_time": "2019-01-05T15:07:50.070264Z"
    }
   },
   "outputs": [
    {
     "name": "stdout",
     "output_type": "stream",
     "text": [
      "x.shape: (100, 2)\n",
      "[[ 31.3 -50.1]]\n",
      "(1, 2)\n"
     ]
    }
   ],
   "source": [
    "print('x.shape:', x.shape)\n",
    "print(model.coef_)\n",
    "print(model.coef_.shape)"
   ]
  },
  {
   "cell_type": "code",
   "execution_count": 92,
   "metadata": {
    "ExecuteTime": {
     "end_time": "2019-01-05T15:07:50.563934Z",
     "start_time": "2019-01-05T15:07:50.556125Z"
    }
   },
   "outputs": [
    {
     "name": "stdout",
     "output_type": "stream",
     "text": [
      "[[-9.]]\n",
      "(1,)\n"
     ]
    }
   ],
   "source": [
    "print(model.intercept_.reshape(1,-1))\n",
    "print(model.intercept_.shape)"
   ]
  },
  {
   "cell_type": "code",
   "execution_count": 93,
   "metadata": {
    "ExecuteTime": {
     "end_time": "2019-01-05T15:07:52.167594Z",
     "start_time": "2019-01-05T15:07:52.153377Z"
    }
   },
   "outputs": [
    {
     "name": "stdout",
     "output_type": "stream",
     "text": [
      "w.shape:(1, 2)\n",
      "b.shape:(1,)\n",
      "x1.shape:(10, 1)\n",
      "x2.shape:(10, 1)\n"
     ]
    }
   ],
   "source": [
    "w = model.coef_\n",
    "b = model.intercept_\n",
    "x1_draw = np.linspace(min(x[:, 0])-0.1, max(x[:, 0])+0.1, 10).reshape(-1,1)\n",
    "x2_draw = -(w[0,0]*x1_draw + b)/w[0,1]\n",
    "print('w.shape:{}\\nb.shape:{}\\nx1.shape:{}\\nx2.shape:{}'.format(w.shape, b.shape, x1_draw.shape, x2_draw.shape))"
   ]
  },
  {
   "cell_type": "code",
   "execution_count": 94,
   "metadata": {
    "ExecuteTime": {
     "end_time": "2019-01-05T15:07:53.238381Z",
     "start_time": "2019-01-05T15:07:52.919061Z"
    }
   },
   "outputs": [
    {
     "data": {
      "text/plain": [
       "<matplotlib.collections.PathCollection at 0x2e88435a748>"
      ]
     },
     "execution_count": 94,
     "metadata": {},
     "output_type": "execute_result"
    },
    {
     "data": {
      "image/png": "[encoded data removed]",
      "text/plain": [
       "<Figure size 432x288 with 1 Axes>"
      ]
     },
     "metadata": {
      "needs_background": "light"
     },
     "output_type": "display_data"
    }
   ],
   "source": [
    "plt.plot(x1_draw, x2_draw)\n",
    "plt.scatter(x[:,0], x[:,1], c=y)"
   ]
  },
  {
   "cell_type": "code",
   "execution_count": 80,
   "metadata": {
    "ExecuteTime": {
     "end_time": "2019-01-05T15:04:27.249158Z",
     "start_time": "2019-01-05T15:04:27.241055Z"
    }
   },
   "outputs": [
    {
     "data": {
      "text/plain": [
       "7.0"
      ]
     },
     "execution_count": 80,
     "metadata": {},
     "output_type": "execute_result"
    }
   ],
   "source": [
    "max(x[:, 0])"
   ]
  },
  {
   "cell_type": "code",
   "execution_count": 95,
   "metadata": {
    "ExecuteTime": {
     "end_time": "2019-01-05T15:08:34.424540Z",
     "start_time": "2019-01-05T15:08:34.414368Z"
    }
   },
   "outputs": [
    {
     "data": {
      "text/plain": [
       "array([7. , 3.2])"
      ]
     },
     "execution_count": 95,
     "metadata": {},
     "output_type": "execute_result"
    }
   ],
   "source": [
    "x[50,:]"
   ]
  },
  {
   "cell_type": "code",
   "execution_count": null,
   "metadata": {},
   "outputs": [],
   "source": []
  }
 ],
 "metadata": {
  "kernelspec": {
   "display_name": "Python 3",
   "language": "python",
   "name": "python3"
  },
  "language_info": {
   "codemirror_mode": {
    "name": "ipython",
    "version": 3
   },
   "file_extension": ".py",
   "mimetype": "text/x-python",
   "name": "python",
   "nbconvert_exporter": "python",
   "pygments_lexer": "ipython3",
   "version": "3.6.7"
  },
  "toc": {
   "base_numbering": 1,
   "nav_menu": {},
   "number_sections": true,
   "sideBar": true,
   "skip_h1_title": false,
   "title_cell": "Table of Contents",
   "title_sidebar": "Contents",
   "toc_cell": false,
   "toc_position": {},
   "toc_section_display": true,
   "toc_window_display": false
  },
  "varInspector": {
   "cols": {
    "lenName": 16,
    "lenType": 16,
    "lenVar": 40
   },
   "kernels_config": {
    "python": {
     "delete_cmd_postfix": "",
     "delete_cmd_prefix": "del ",
     "library": "var_list.py",
     "varRefreshCmd": "print(var_dic_list())"
    },
    "r": {
     "delete_cmd_postfix": ") ",
     "delete_cmd_prefix": "rm(",
     "library": "var_list.r",
     "varRefreshCmd": "cat(var_dic_list()) "
    }
   },
   "types_to_exclude": [
    "module",
    "function",
    "builtin_function_or_method",
    "instance",
    "_Feature"
   ],
   "window_display": false
  }
 },
 "nbformat": 4,
 "nbformat_minor": 2
}
