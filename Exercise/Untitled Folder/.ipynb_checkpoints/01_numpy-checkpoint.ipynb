{
 "cells": [
  {
   "cell_type": "markdown",
   "metadata": {},
   "source": [
    "## Notebook-numpy\n",
    "---"
   ]
  },
  {
   "cell_type": "code",
   "execution_count": 3,
   "metadata": {},
   "outputs": [],
   "source": [
    "import numpy as np\n",
    "import matplotlib.pyplot as plt\n",
    "%matplotlib inline"
   ]
  },
  {
   "cell_type": "code",
   "execution_count": 25,
   "metadata": {},
   "outputs": [
    {
     "name": "stdout",
     "output_type": "stream",
     "text": [
      "1.15.4\n"
     ]
    }
   ],
   "source": [
    "print(np.__version__)"
   ]
  },
  {
   "cell_type": "code",
   "execution_count": 7,
   "metadata": {},
   "outputs": [],
   "source": [
    "# set the seed for random to keep get the same number in another time\n",
    "def getdata():\n",
    "    np.random.seed(0)\n",
    "    a = np.random.rand(4)\n",
    "    print(a)"
   ]
  },
  {
   "cell_type": "code",
   "execution_count": 8,
   "metadata": {},
   "outputs": [
    {
     "name": "stdout",
     "output_type": "stream",
     "text": [
      "[0.5488135  0.71518937 0.60276338 0.54488318]\n"
     ]
    }
   ],
   "source": [
    "getdata()"
   ]
  },
  {
   "cell_type": "code",
   "execution_count": 9,
   "metadata": {},
   "outputs": [],
   "source": [
    "np.random.seed(8)"
   ]
  },
  {
   "cell_type": "code",
   "execution_count": 12,
   "metadata": {},
   "outputs": [
    {
     "name": "stdout",
     "output_type": "stream",
     "text": [
      "data:\n",
      " [[1 2 3]\n",
      " [4 5 6]\n",
      " [7 8 9]]\n",
      "ndim:2\n",
      "shape:(3, 3)\n",
      "size:9\n",
      "dtype:int32\n"
     ]
    }
   ],
   "source": [
    "a = np.array([[1,2,3],[4,5,6],[7,8,9]])\n",
    "print('data:\\n', a)\n",
    "print('ndim:{}\\nshape:{}\\nsize:{}\\ndtype:{}'.format(a.ndim, a.shape, a.size, a.dtype))"
   ]
  },
  {
   "cell_type": "code",
   "execution_count": 14,
   "metadata": {},
   "outputs": [
    {
     "name": "stdout",
     "output_type": "stream",
     "text": [
      "data:\n",
      " [[[1 2 3]\n",
      "  [4 5 6]\n",
      "  [7 8 9]]]\n",
      "ndim:3\n",
      "shape:(1, 3, 3)\n",
      "size:9\n",
      "dtype:int32\n"
     ]
    }
   ],
   "source": [
    "# 3-D\n",
    "a = np.array([[[1,2,3],[4,5,6],[7,8,9]]])\n",
    "print('data:\\n', a)\n",
    "print('ndim:{}\\nshape:{}\\nsize:{}\\ndtype:{}'.format(a.ndim, a.shape, a.size, a.dtype))"
   ]
  },
  {
   "cell_type": "code",
   "execution_count": 21,
   "metadata": {
    "scrolled": true
   },
   "outputs": [
    {
     "name": "stdout",
     "output_type": "stream",
     "text": [
      "np.zeros((2,2)):\n",
      " [[0. 0.]\n",
      " [0. 0.]]\n",
      "np.ones((2,2)):\n",
      " [[1. 1.]\n",
      " [1. 1.]]\n",
      "np.eye(4):\n",
      " [[1. 0. 0. 0.]\n",
      " [0. 1. 0. 0.]\n",
      " [0. 0. 1. 0.]\n",
      " [0. 0. 0. 1.]]\n"
     ]
    }
   ],
   "source": [
    "# function\n",
    "print('np.zeros((2,2)):\\n', np.zeros((2,2)))\n",
    "print('np.ones((2,2)):\\n', np.ones((2,2)))\n",
    "print('np.eye(4):\\n', np.eye(4))"
   ]
  },
  {
   "cell_type": "markdown",
   "metadata": {},
   "source": [
    "| numpy方法 | 解释 |\n",
    "| :------ | :------| \n",
    "|np.random.rand(x, y, z)\t|生成一个一维x随机数或生成x x y的随机数组|\n",
    "|np.random.randn(x, y)\t|标准正态分布随机数|\n",
    "|np.random.randint(low, high, (shape))\t|整数随机数|\n",
    "|np.random.normal(loc, scale, (size))\t|从指定正态分布中抽取样本, loc为概率分布的均匀值, 标准差scale|\n",
    "|np.random.seed(s)|给一个随机数字固定|\n",
    "|np.randomunifrom(low, high, (size))\t|均匀分布的数组, 有小数|\n",
    "|np.random.shuffle(a)\t|将数组a的第0轴(最外维度)进行随机排列(洗牌), 改变数组a, 行边列不变|\n",
    "|np.random.permutation(a)\t|同上, 不改变数组a|\n",
    "|np.random.choice(a, size=None, replace=False, p=数组a/np.sum(b))\t|从一维数组a中以概率p抽取元素，形成size形状新数组，replace表示是否可以重用元素，默认为False，p为抽取概率,本位置越高,抽取概率越高|"
   ]
  },
  {
   "cell_type": "code",
   "execution_count": 44,
   "metadata": {},
   "outputs": [
    {
     "name": "stdout",
     "output_type": "stream",
     "text": [
      "np.random.rand():\n",
      " [[[0.5507979  0.70814782 0.29090474]\n",
      "  [0.51082761 0.89294695 0.89629309]]\n",
      "\n",
      " [[0.12558531 0.20724288 0.0514672 ]\n",
      "  [0.44080984 0.02987621 0.45683322]]]\n",
      "np.random.randn():\n",
      " [[[-1.31386475  0.88462238  0.88131804]\n",
      "  [ 1.70957306  0.05003364 -0.40467741]]\n",
      "\n",
      " [[-0.54535995 -1.54647732  0.98236743]\n",
      "  [-1.10106763 -1.18504653 -0.2056499 ]]]\n"
     ]
    }
   ],
   "source": [
    "# random\n",
    "np.random.seed(3)\n",
    "print('np.random.rand():\\n', np.random.rand(2,2,3))         # 生成2x2x3的随机数组，数值范围[0, 1]均匀分布\n",
    "print('np.random.randn():\\n',np.random.randn(2,2,3))        # 生成2x2x3的随机数组，数值范围：标准正太分布"
   ]
  },
  {
   "cell_type": "code",
   "execution_count": 56,
   "metadata": {},
   "outputs": [],
   "source": [
    "# \n",
    "mu, sigma = 0, 0.1\n",
    "s = np.random.normal(mu, sigma, (1, 100))\n",
    "s1 = sigma * np.random.randn(1, 100) + mu"
   ]
  },
  {
   "cell_type": "code",
   "execution_count": null,
   "metadata": {},
   "outputs": [],
   "source": []
  }
 ],
 "metadata": {
  "kernelspec": {
   "display_name": "Python 3",
   "language": "python",
   "name": "python3"
  },
  "language_info": {
   "codemirror_mode": {
    "name": "ipython",
    "version": 3
   },
   "file_extension": ".py",
   "mimetype": "text/x-python",
   "name": "python",
   "nbconvert_exporter": "python",
   "pygments_lexer": "ipython3",
   "version": "3.6.7"
  }
 },
 "nbformat": 4,
 "nbformat_minor": 2
}
