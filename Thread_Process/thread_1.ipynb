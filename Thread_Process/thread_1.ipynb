{
 "cells": [
  {
   "cell_type": "code",
   "execution_count": 10,
   "metadata": {},
   "outputs": [
    {
     "name": "stdout",
     "output_type": "stream",
     "text": [
      "thread MainThread is running...\n",
      "thread thread_1 is running...\n",
      "I'm coding  Python  program at  Tue Mar 26 20:26:33 2019\n",
      "I'm coding  Python  program at  Tue Mar 26 20:26:33 2019\n",
      "I'm coding  Python  program at  Tue Mar 26 20:26:33 2019\n",
      "I'm coding  Python  program at  Tue Mar 26 20:26:33 2019\n",
      "I'm coding  Python  program at  Tue Mar 26 20:26:33 2019\n",
      "------------\n",
      "thread MainThread is running...\n",
      "thread thread_2 is running...\n",
      "I'm listening music at  Tue Mar 26 20:26:33 2019\n",
      "I'm listening music at  Tue Mar 26 20:26:33 2019\n",
      "I'm listening music at  Tue Mar 26 20:26:33 2019\n",
      "I'm listening music at  Tue Mar 26 20:26:33 2019\n",
      "I'm listening music at  Tue Mar 26 20:26:33 2019\n",
      "0.002607583999633789\n",
      "------------\n",
      "thread MainThread is running...\n",
      "thread MainThread ended.\n"
     ]
    }
   ],
   "source": [
    "from time import ctime\n",
    "import threading\n",
    "import time\n",
    "\n",
    "# 定义新的子线程coding\n",
    "def coding(language):\n",
    "    print('thread %s is running...' % threading.current_thread().name)\n",
    "    for i in range(5):\n",
    "        print('I\\'m coding ', language, ' program at ', ctime())\n",
    "\n",
    "# 定义新的子线程music\n",
    "def music():\n",
    "    init_time = time.time()\n",
    "    print('thread %s is running...' % threading.current_thread().name)\n",
    "    for i in range(5):\n",
    "        print('I\\'m listening music at ', ctime())\n",
    "    print(time.time()-init_time)\n",
    "\n",
    "\n",
    "if __name__ == '__main__':\n",
    "\n",
    "    print('thread %s is running...' % threading.current_thread().name)\n",
    "    \n",
    "    # 定义进程表\n",
    "    thread_list = []\n",
    "    \n",
    "    t1 = threading.Thread(target=coding, name=\"thread_1\", args=('Python',))\n",
    "    t2 = threading.Thread(target=music, name='thread_2')\n",
    "    thread_list.append(t1)\n",
    "    thread_list.append(t2)\n",
    "\n",
    "    for t in thread_list:\n",
    "        t.setDaemon(True)  # 设置为守护线程\n",
    "        t.start()\n",
    "        t.join()  # 在这个子线程完成运行之前，主线程将一直被阻塞\n",
    "        print('------------')\n",
    "        print('thread %s is running...' % threading.current_thread().name)\n",
    "#     t.join()\n",
    "    print('thread %s ended.' % threading.current_thread().name)"
   ]
  },
  {
   "cell_type": "code",
   "execution_count": 3,
   "metadata": {},
   "outputs": [
    {
     "name": "stdout",
     "output_type": "stream",
     "text": [
      "thread MainThread is running...\n",
      "thread LoopThread is running...\n",
      "thread LoopThread >>> 1\n",
      "thread LoopThread >>> 2\n",
      "thread LoopThread >>> 3\n",
      "thread LoopThread >>> 4\n",
      "thread LoopThread >>> 5\n",
      "thread LoopThread ended.\n",
      "----\n",
      "thread MainThread ended.\n"
     ]
    }
   ],
   "source": [
    "import time, threading\n",
    "\n",
    "# 新线程执行的代码:\n",
    "def loop():\n",
    "    print('thread %s is running...' % threading.current_thread().name)\n",
    "    n = 0\n",
    "    while n < 5:\n",
    "        n = n + 1\n",
    "        print('thread %s >>> %s' % (threading.current_thread().name, n))\n",
    "        time.sleep(1)\n",
    "    print('thread %s ended.' % threading.current_thread().name)\n",
    "    print('----')\n",
    "\n",
    "print('thread %s is running...' % threading.current_thread().name)\n",
    "t = threading.Thread(target=loop, name='LoopThread')\n",
    "t.start()\n",
    "t.join()\n",
    "print('thread %s ended.' % threading.current_thread().name)"
   ]
  },
  {
   "cell_type": "markdown",
   "metadata": {},
   "source": [
    "#### Lock\n",
    "多线程和多进程最大的不同在于，多进程中，同一个变量，各自有一份拷贝存在于每个进程中，互不影响，而多线程中，所有变量都由所有线程共享，所以，任何一个变量都可以被任何一个线程修改，因此，线程之间共享数据最大的危险在于多个线程同时改一个变量，把内容给改乱了。  \n",
    "来看看多个线程同时操作一个变量怎么把内容给改乱了：  "
   ]
  },
  {
   "cell_type": "markdown",
   "metadata": {},
   "source": [
    "我们定义了一个共享变量balance，初始值为0，并且启动两个线程，先存后取，理论上结果应该为0，但是，由于线程的调度是由操作系统决定的，当t1、t2交替执行时，只要循环次数足够多，balance的结果就不一定是0了。"
   ]
  },
  {
   "cell_type": "code",
   "execution_count": 18,
   "metadata": {},
   "outputs": [
    {
     "name": "stdout",
     "output_type": "stream",
     "text": [
      "37\n"
     ]
    }
   ],
   "source": [
    "import time, threading\n",
    "\n",
    "# 假定这是你的银行存款:\n",
    "balance = 0\n",
    "\n",
    "def change_it(n):\n",
    "    # 先存后取，结果应该为0:\n",
    "    global balance\n",
    "    balance = balance + n\n",
    "    balance = balance - n\n",
    "\n",
    "def run_thread(n):\n",
    "    for i in range(10000000):\n",
    "        change_it(n)\n",
    "\n",
    "t1 = threading.Thread(target=run_thread, args=(5,))\n",
    "t2 = threading.Thread(target=run_thread, args=(8,))\n",
    "t1.start()\n",
    "t2.start()\n",
    "t1.join()\n",
    "t2.join()\n",
    "print(balance)"
   ]
  },
  {
   "cell_type": "markdown",
   "metadata": {},
   "source": [
    "两个线程同时一存一取，就可能导致余额不对，你肯定不希望你的银行存款莫名其妙地变成了负数，所以，我们必须确保一个线程在修改balance的时候，别的线程一定不能改。  \n",
    "如果我们要确保balance计算正确，就要给change_it()上一把锁，当某个线程开始执行change_it()时，我们说，该线程因为获得了锁，因此其他线程不能同时执行change_it()，只能等待，直到锁被释放后，获得该锁以后才能改。由于锁只有一个，无论多少线程，同一时刻最多只有一个线程持有该锁，所以，不会造成修改的冲突。创建一个锁就是通过threading.Lock()来实现：\n",
    "\n"
   ]
  },
  {
   "cell_type": "code",
   "execution_count": 21,
   "metadata": {},
   "outputs": [
    {
     "name": "stdout",
     "output_type": "stream",
     "text": [
      "0\n"
     ]
    }
   ],
   "source": [
    "from threading import Lock\n",
    "\n",
    "balance = 0\n",
    "lock = Lock()\n",
    "def run_thread(n):\n",
    "    for i in range(1000000):\n",
    "        # 先要获取锁:\n",
    "        lock.acquire()\n",
    "        try:\n",
    "            # 放心地改吧:\n",
    "            change_it(n)\n",
    "        finally:\n",
    "            # 改完了一定要释放锁:\n",
    "            lock.release()\n",
    "\n",
    "def change_it(n):\n",
    "    # 先存后取，结果应该为0:\n",
    "    global balance\n",
    "    balance = balance + n\n",
    "    balance = balance - n\n",
    "\n",
    "if __name__ == \"__main__\":\n",
    "    t1 = threading.Thread(target=run_thread, args=(5,))\n",
    "    t2 = threading.Thread(target=run_thread, args=(8,))\n",
    "    t1.start()\n",
    "    t2.start()\n",
    "    t1.join()\n",
    "    t2.join()\n",
    "    print(balance)"
   ]
  },
  {
   "cell_type": "code",
   "execution_count": null,
   "metadata": {},
   "outputs": [],
   "source": []
  }
 ],
 "metadata": {
  "kernelspec": {
   "display_name": "Python 3",
   "language": "python",
   "name": "python3"
  },
  "language_info": {
   "codemirror_mode": {
    "name": "ipython",
    "version": 3
   },
   "file_extension": ".py",
   "mimetype": "text/x-python",
   "name": "python",
   "nbconvert_exporter": "python",
   "pygments_lexer": "ipython3",
   "version": "3.6.7"
  }
 },
 "nbformat": 4,
 "nbformat_minor": 2
}
