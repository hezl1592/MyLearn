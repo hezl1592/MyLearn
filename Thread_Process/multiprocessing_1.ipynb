{
 "cells": [
  {
   "cell_type": "code",
   "execution_count": 11,
   "metadata": {},
   "outputs": [
    {
     "name": "stdout",
     "output_type": "stream",
     "text": [
      "Process (24531) start...\n",
      "I (24531) just created a child process (24690).\n",
      "I am child process (24690) and my parent is 24531.\n"
     ]
    }
   ],
   "source": [
    "import os\n",
    "\n",
    "print('Process (%s) start...' % os.getpid())\n",
    "# Only works on Unix/Linux/Mac:\n",
    "pid = os.fork()\n",
    "if pid == 0:\n",
    "    print('I am child process (%s) and my parent is %s.' % (os.getpid(), os.getppid()))\n",
    "else:\n",
    "    print('I (%s) just created a child process (%s).' % (os.getpid(), pid))"
   ]
  },
  {
   "cell_type": "code",
   "execution_count": null,
   "metadata": {},
   "outputs": [],
   "source": []
  },
  {
   "cell_type": "code",
   "execution_count": 16,
   "metadata": {},
   "outputs": [
    {
     "name": "stdout",
     "output_type": "stream",
     "text": [
      "Parent process 24531.\n",
      "Child process will start.\n",
      "Run child process test (25067)...\n",
      "Child process end.\n"
     ]
    }
   ],
   "source": [
    "from multiprocessing import Process\n",
    "import os\n",
    "import time\n",
    "\n",
    "# 子进程要执行的代码\n",
    "def run_proc(name):\n",
    "    print('Run child process %s (%s)...' % (name, os.getpid()))\n",
    "\n",
    "if __name__=='__main__':\n",
    "    print('Parent process %s.' % os.getpid())\n",
    "    p = Process(target=run_proc, args=('test',))\n",
    "    print('Child process will start.')\n",
    "    p.start()\n",
    "    p.join()     # join()方法可以等待子进程结束后再继续往下运行，通常用于进程间的同步。\n",
    "    print('Child process end.')"
   ]
  },
  {
   "cell_type": "code",
   "execution_count": 58,
   "metadata": {},
   "outputs": [
    {
     "name": "stdout",
     "output_type": "stream",
     "text": [
      "parent process 24531.\n",
      "Run task 0 (27858)...\n",
      "Run task 1 (27857)...\n",
      "Run task 3 (27860)...\n",
      "Run task 2 (27859)...\n",
      "Waiting for all subprocesses done...0.06 sec\n",
      "Task 0 runs 1.10 sec.\n",
      "Run task 4 (27858)...\n",
      "Task 3 runs 1.85 sec.\n",
      "Task 2 runs 2.48 sec.\n",
      "Task 4 runs 1.42 sec.\n",
      "Task 1 runs 2.82 sec.\n",
      "All subProcess done.\n",
      "All run 2.94 sec\n"
     ]
    }
   ],
   "source": [
    "from multiprocessing import Process, Pool\n",
    "import os\n",
    "import time, random\n",
    "\n",
    "def long_time_task(name):\n",
    "    print('Run task %s (%s)...' % (name, os.getpid()))\n",
    "    start = time.time()\n",
    "    time.sleep(random.random() * 3)\n",
    "    end = time.time()\n",
    "    print('Task %s runs %0.2f sec.' % (name, (end - start)))\n",
    "\n",
    "if __name__ == \"__main__\":\n",
    "    print('parent process %s.' % os.getpid())\n",
    "    init_time= time.time()\n",
    "    p = Pool(4)  # pool的大小为4， 即在进程池中同时最多执行4个进程，只有等之前的线程结束后才能进入新的进程\n",
    "#     init_time2= time.time()\n",
    "    for i in range(5):\n",
    "        p.apply_async(long_time_task, args=(i,))\n",
    "#         time.sleep(0.1)\n",
    "    print('Waiting for all subprocesses done...{:.2f} sec'.format(time.time() - init_time))\n",
    "    p.close()\n",
    "    p.join()    # 堵塞主进程，等待所有的子进程执行完毕\n",
    "    print('All subProcess done.')\n",
    "    print('All run {:.2f} sec'.format(time.time() - init_time))"
   ]
  },
  {
   "cell_type": "code",
   "execution_count": 60,
   "metadata": {},
   "outputs": [
    {
     "name": "stdout",
     "output_type": "stream",
     "text": [
      "$ nslookup www.python.org\n",
      "Exit code: 0\n"
     ]
    }
   ],
   "source": [
    "import subprocess          # 该模块可以方便的启动一个子进程\n",
    "\n",
    "print('$ nslookup www.python.org')\n",
    "r = subprocess.call(['nslookup', 'www.python.org'])\n",
    "print('Exit code:', r)"
   ]
  },
  {
   "cell_type": "markdown",
   "metadata": {},
   "source": [
    "### 进程间通信  \n",
    "Process之间肯定是需要通信的，操作系统提供了很多机制来实现进程间的通信。Python的multiprocessing模块包装了底层的机制，提供了Queue、Pipes等多种方式来交换数据。  \n",
    "我们以Queue为例，在父进程中创建两个子进程，一个往Queue里写数据，一个从Queue里读数据："
   ]
  },
  {
   "cell_type": "code",
   "execution_count": 119,
   "metadata": {},
   "outputs": [
    {
     "name": "stdout",
     "output_type": "stream",
     "text": [
      "Process to write: 16804\n",
      "Put A to queue...\n",
      "Put B to queue...\n",
      "Put C to queue...\n",
      "Process to read: 16805\n",
      "the queue's size:  3\n",
      "Get A from queue.\n",
      "the queue's size:  2\n",
      "Get B from queue.\n",
      "the queue's size:  1\n",
      "Get C from queue.\n"
     ]
    }
   ],
   "source": [
    "import os, time, random\n",
    "from multiprocessing import Process, Queue\n",
    "# from queue import Queue\n",
    "\n",
    "# 写数据进程执行的代码:\n",
    "def write(q):\n",
    "    print('Process to write: %s' % os.getpid())\n",
    "    for value in ['A', 'B', 'C']:\n",
    "        print('Put %s to queue...' % value)\n",
    "        q.put(value)\n",
    "        time.sleep(random.random())\n",
    "    time.sleep(5)     # 此处延时为了等待read进程的结束\n",
    "\n",
    "# 读数据进程执行的代码:\n",
    "def read(q):\n",
    "    time.sleep(5)     # 此处延时为了等待q 读取到所有的元素\n",
    "    print('Process to read: %s' % os.getpid())\n",
    "    while True:    # 一直在运行，等待q获取到数据\n",
    "        if (not q.empty()):\n",
    "            print('the queue\\'s size: ', q.qsize())\n",
    "            value = q.get()\n",
    "            print('Get %s from queue.' % value)\n",
    "\n",
    "if __name__=='__main__':\n",
    "    # 父进程创建Queue，并传给各个子进程：\n",
    "    q = Queue()\n",
    "    pw = Process(target=write, args=(q,), name='write')\n",
    "    pr = Process(target=read, args=(q,))\n",
    "    # 启动子进程pw，写入:\n",
    "    pw.start()\n",
    "    # 启动子进程pr，读取:\n",
    "    pr.start()\n",
    "    # 等待pw结束:\n",
    "    pw.join()\n",
    "\n",
    "    # pr.join()\n",
    "    # pr进程里是死循环，无法等待其结束，只能强行终止:\n",
    "    pr.terminate()"
   ]
  },
  {
   "cell_type": "code",
   "execution_count": null,
   "metadata": {},
   "outputs": [],
   "source": []
  },
  {
   "cell_type": "code",
   "execution_count": 117,
   "metadata": {},
   "outputs": [
    {
     "name": "stdout",
     "output_type": "stream",
     "text": [
      "Process to write: 16649\n",
      "Process to read: 16650\n",
      "Put A to queue...\n",
      "Get A from queue.\n",
      "Put B to queue...\n",
      "Get B from queue.\n",
      "Put C to queue...\n",
      "Get C from queue.\n"
     ]
    }
   ],
   "source": [
    "from multiprocessing import Process, Queue\n",
    "import os, time, random\n",
    "\n",
    "# 写数据进程执行的代码:\n",
    "def write(q):\n",
    "    print('Process to write: %s' % os.getpid())\n",
    "    for value in ['A', 'B', 'C']:\n",
    "        print('Put %s to queue...' % value)\n",
    "        q.put(value)\n",
    "        time.sleep(random.random())\n",
    "\n",
    "# 读数据进程执行的代码:\n",
    "def read(q):\n",
    "    print('Process to read: %s' % os.getpid())\n",
    "    while True:\n",
    "        value = q.get(True)\n",
    "        print('Get %s from queue.' % value)\n",
    "\n",
    "if __name__=='__main__':\n",
    "    # 父进程创建Queue，并传给各个子进程：\n",
    "    q = Queue()\n",
    "    pw = Process(target=write, args=(q,))\n",
    "    pr = Process(target=read, args=(q,))\n",
    "    # 启动子进程pw，写入:\n",
    "    pw.start()\n",
    "    # 启动子进程pr，读取:\n",
    "    pr.start()\n",
    "    # 等待pw结束:\n",
    "    pw.join()\n",
    "    # pr进程里是死循环，无法等待其结束，只能强行终止:\n",
    "    pr.terminate()"
   ]
  },
  {
   "cell_type": "code",
   "execution_count": null,
   "metadata": {},
   "outputs": [],
   "source": []
  }
 ],
 "metadata": {
  "kernelspec": {
   "display_name": "Python 3",
   "language": "python",
   "name": "python3"
  },
  "language_info": {
   "codemirror_mode": {
    "name": "ipython",
    "version": 3
   },
   "file_extension": ".py",
   "mimetype": "text/x-python",
   "name": "python",
   "nbconvert_exporter": "python",
   "pygments_lexer": "ipython3",
   "version": "3.6.7"
  }
 },
 "nbformat": 4,
 "nbformat_minor": 2
}
