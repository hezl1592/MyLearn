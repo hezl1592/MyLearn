{
 "cells": [
  {
   "cell_type": "markdown",
   "metadata": {},
   "source": [
    "**TensorFlow多线程输入数据处理框架**  \n",
    "\n",
    "---\n",
    "当数据量很大时，入队操作从硬盘中读取数据，放入内存中，主线程需要等待入队操作完成，才能进行训练。会话中可以运行多个线程，实现异步读取。"
   ]
  },
  {
   "cell_type": "code",
   "execution_count": 1,
   "metadata": {
    "ExecuteTime": {
     "end_time": "2019-02-28T02:06:23.048836Z",
     "start_time": "2019-02-28T02:06:21.345888Z"
    }
   },
   "outputs": [],
   "source": [
    "import tensorflow as tf\n",
    "import os\n",
    "\n",
    "# 调整警告等级\n",
    "os.environ['TF_CPP_MIN_LOG_LEVEL'] = '2'"
   ]
  },
  {
   "cell_type": "markdown",
   "metadata": {},
   "source": [
    "## 队列\n",
    "----"
   ]
  },
  {
   "cell_type": "markdown",
   "metadata": {},
   "source": [
    "### 先进先出队列"
   ]
  },
  {
   "cell_type": "code",
   "execution_count": null,
   "metadata": {
    "ExecuteTime": {
     "start_time": "2019-02-28T02:02:45.992Z"
    }
   },
   "outputs": [],
   "source": [
    "with tf.Graph().as_default():\n",
    "    # 模拟一下同步先处理数据，然后才能取数据训练\n",
    "    # 1.首先定义一个队列\n",
    "    queue1 = tf.FIFOQueue(capacity=3, dtypes=tf.float32)\n",
    "\n",
    "    # 初始化，放入一些数据\n",
    "    init = queue1.enqueue_many([[0.1, 0.2, 0.3], ])\n",
    "\n",
    "    out_queue = queue1.dequeue()\n",
    "    data = out_queue + 1\n",
    "    en_queue = queue1.enqueue(data)\n",
    "\n",
    "    with tf.Session() as sess:\n",
    "        # 初始化队列\n",
    "        sess.run(init)\n",
    "\n",
    "        for i in range(3):\n",
    "            sess.run(en_queue)\n",
    "\n",
    "        # print(queue1.size().eval())\n",
    "\n",
    "        for i in range(queue1.size().eval()):\n",
    "            print(sess.run(out_queue))"
   ]
  },
  {
   "cell_type": "markdown",
   "metadata": {},
   "source": [
    "### 随机队列\n",
    "RandomShuffleQueue会 将队列中的元素打乱，每次出队列操作得到的是当前队列所有元素中随机选择的一个。"
   ]
  },
  {
   "cell_type": "code",
   "execution_count": 4,
   "metadata": {
    "ExecuteTime": {
     "end_time": "2019-02-25T07:42:43.242288Z",
     "start_time": "2019-02-25T07:42:43.197424Z"
    },
    "collapsed": true
   },
   "outputs": [
    {
     "name": "stdout",
     "output_type": "stream",
     "text": [
      "第1次实验\n",
      "  第1次弹出队列：0.4\n",
      "  第2次弹出队列：0.5\n",
      "  第3次弹出队列：0.3\n",
      "  第4次弹出队列：0.2\n",
      "  第5次弹出队列：0.1\n",
      "第2次实验\n",
      "  第1次弹出队列：0.2\n",
      "  第2次弹出队列：0.4\n",
      "  第3次弹出队列：0.1\n",
      "  第4次弹出队列：0.3\n",
      "  第5次弹出队列：0.5\n",
      "第3次实验\n",
      "  第1次弹出队列：0.5\n",
      "  第2次弹出队列：0.1\n",
      "  第3次弹出队列：0.4\n",
      "  第4次弹出队列：0.3\n",
      "  第5次弹出队列：0.2\n",
      "第4次实验\n",
      "  第1次弹出队列：0.5\n",
      "  第2次弹出队列：0.2\n",
      "  第3次弹出队列：0.3\n",
      "  第4次弹出队列：0.4\n",
      "  第5次弹出队列：0.1\n",
      "第5次实验\n",
      "  第1次弹出队列：0.1\n",
      "  第2次弹出队列：0.3\n",
      "  第3次弹出队列：0.2\n",
      "  第4次弹出队列：0.4\n",
      "  第5次弹出队列：0.5\n"
     ]
    }
   ],
   "source": [
    "with tf.Graph().as_default():\n",
    "    queue = tf.RandomShuffleQueue(capacity=5, min_after_dequeue=0, dtypes=tf.float32)\n",
    "\n",
    "    # 放入一些数据\n",
    "    init = queue.enqueue_many([[0.1, 0.2, 0.3, 0.4, 0.5], ])\n",
    "\n",
    "    out_queue = queue.dequeue()\n",
    "\n",
    "    with tf.Session() as sess:\n",
    "        for i in range(5):\n",
    "            sess.run(init)\n",
    "            print('第{}次实验'.format(i+1))\n",
    "\n",
    "            for m in range(queue.size().eval()):\n",
    "                x = sess.run(out_queue)\n",
    "                print('  第{}次弹出队列：{:.1f}'.format(m+1, x))"
   ]
  },
  {
   "cell_type": "markdown",
   "metadata": {},
   "source": [
    "## 线程（队列管理器）  \n",
    "---\n",
    "Tensorflow的计算主要在使用CPU/GPU和内存，而数据读取涉及磁盘操作，速度远低于前者操作。因此通常会使用多个线程读取数据，然后使用一个线程消费数据。QueueRunner就是来管理这些读写队列的线程的。"
   ]
  },
  {
   "cell_type": "markdown",
   "metadata": {},
   "source": [
    "- 创建一个QueueRunner  \n",
    "    *tf.train.QueueRunner(queue=..., enqueue_ops=...,)*  \n",
    "    - queque：A queue  \n",
    "    - enqueue_ops：添加线程的队列操作列表，[]* 2，指定两个线程  \n",
    "    "
   ]
  },
  {
   "cell_type": "code",
   "execution_count": 10,
   "metadata": {
    "ExecuteTime": {
     "end_time": "2019-02-28T02:38:16.611469Z",
     "start_time": "2019-02-28T02:38:16.507746Z"
    },
    "collapsed": true
   },
   "outputs": [
    {
     "name": "stdout",
     "output_type": "stream",
     "text": [
      "4.0\n",
      "9.0\n",
      "13.0\n",
      "14.0\n",
      "15.0\n",
      "17.0\n",
      "18.0\n",
      "18.0\n",
      "19.0\n",
      "21.0\n",
      "22.0\n",
      "22.0\n",
      "23.0\n",
      "25.0\n",
      "25.0\n",
      "26.0\n",
      "28.0\n",
      "29.0\n",
      "29.0\n",
      "31.0\n",
      "ERROR:tensorflow:Exception in QueueRunner: Enqueue operation was cancelled\n",
      "\t [[{{node fifo_queue_enqueue}} = QueueEnqueueV2[Tcomponents=[DT_FLOAT], timeout_ms=-1, _device=\"/job:localhost/replica:0/task:0/device:CPU:0\"](fifo_queue, AssignAdd)]]\n",
      "ERROR:tensorflow:Exception in QueueRunner: Enqueue operation was cancelled\n",
      "\t [[{{node fifo_queue_enqueue}} = QueueEnqueueV2[Tcomponents=[DT_FLOAT], timeout_ms=-1, _device=\"/job:localhost/replica:0/task:0/device:CPU:0\"](fifo_queue, AssignAdd)]]\n"
     ]
    },
    {
     "name": "stderr",
     "output_type": "stream",
     "text": [
      "Exception in thread QueueRunnerThread-fifo_queue-fifo_queue_enqueue:\n",
      "Traceback (most recent call last):\n",
      "  File \"c:\\program files\\python36\\lib\\threading.py\", line 916, in _bootstrap_inner\n",
      "    self.run()\n",
      "  File \"c:\\program files\\python36\\lib\\threading.py\", line 864, in run\n",
      "    self._target(*self._args, **self._kwargs)\n",
      "  File \"c:\\program files\\python36\\lib\\site-packages\\tensorflow\\python\\training\\queue_runner_impl.py\", line 257, in _run\n",
      "    enqueue_callable()\n",
      "  File \"c:\\program files\\python36\\lib\\site-packages\\tensorflow\\python\\client\\session.py\", line 1257, in _single_operation_run\n",
      "    self._call_tf_sessionrun(None, {}, [], target_list, None)\n",
      "  File \"c:\\program files\\python36\\lib\\site-packages\\tensorflow\\python\\client\\session.py\", line 1407, in _call_tf_sessionrun\n",
      "    run_metadata)\n",
      "tensorflow.python.framework.errors_impl.CancelledError: Enqueue operation was cancelled\n",
      "\t [[{{node fifo_queue_enqueue}} = QueueEnqueueV2[Tcomponents=[DT_FLOAT], timeout_ms=-1, _device=\"/job:localhost/replica:0/task:0/device:CPU:0\"](fifo_queue, AssignAdd)]]\n",
      "\n",
      "Exception in thread QueueRunnerThread-fifo_queue-fifo_queue_enqueue:\n",
      "Traceback (most recent call last):\n",
      "  File \"c:\\program files\\python36\\lib\\threading.py\", line 916, in _bootstrap_inner\n",
      "    self.run()\n",
      "  File \"c:\\program files\\python36\\lib\\threading.py\", line 864, in run\n",
      "    self._target(*self._args, **self._kwargs)\n",
      "  File \"c:\\program files\\python36\\lib\\site-packages\\tensorflow\\python\\training\\queue_runner_impl.py\", line 257, in _run\n",
      "    enqueue_callable()\n",
      "  File \"c:\\program files\\python36\\lib\\site-packages\\tensorflow\\python\\client\\session.py\", line 1257, in _single_operation_run\n",
      "    self._call_tf_sessionrun(None, {}, [], target_list, None)\n",
      "  File \"c:\\program files\\python36\\lib\\site-packages\\tensorflow\\python\\client\\session.py\", line 1407, in _call_tf_sessionrun\n",
      "    run_metadata)\n",
      "tensorflow.python.framework.errors_impl.CancelledError: Enqueue operation was cancelled\n",
      "\t [[{{node fifo_queue_enqueue}} = QueueEnqueueV2[Tcomponents=[DT_FLOAT], timeout_ms=-1, _device=\"/job:localhost/replica:0/task:0/device:CPU:0\"](fifo_queue, AssignAdd)]]\n",
      "\n"
     ]
    }
   ],
   "source": [
    "'''\n",
    "增加计数的进程会不停的后台运行，执行入队的进程会先执行10次（因为队列长度只有10），\n",
    "然后主线程开始消费数据，当一部分数据消费被后，入队的进程又会开始执行。\n",
    "最终主线程消费完20个数据后停止，但其他线程继续运行，程序不会结束。\n",
    "主线程结束，意味着session关闭，即资源释放，子线程依然在进行操作，因此程序会报错\n",
    "'''\n",
    "with tf.Graph().as_default():\n",
    "    queue = tf.FIFOQueue(10, tf.float32)\n",
    "\n",
    "    var = tf.Variable(0.0)\n",
    "\n",
    "    # 实现自增\n",
    "    data = tf.assign_add(var, tf.constant(1.0))\n",
    "\n",
    "    en_q = queue.enqueue([data])\n",
    "\n",
    "    # 定义队列管理器op，指定多少个子线程，以及子线程的任务\n",
    "    qr = tf.train.QueueRunner(queue=queue, enqueue_ops=[en_q] * 2)\n",
    "\n",
    "    # 初始化变量op\n",
    "    init_op = tf.global_variables_initializer()\n",
    "\n",
    "    with tf.Session() as sess:\n",
    "        # 初始化变量\n",
    "        sess.run(init_op)\n",
    "        \n",
    "        # 开启子线程\n",
    "        threads = qr.create_threads(sess, start=True)\n",
    "        \n",
    "        # 主线程，消费数据\n",
    "        for i in range(20):\n",
    "            print(sess.run(queue.dequeue()))"
   ]
  },
  {
   "cell_type": "markdown",
   "metadata": {},
   "source": [
    "## 线程协调器\n",
    "---\n",
    "Coordinator是个用来保存线程组运行状态的协调器对象，它和TensorFlow的Queue没有必然关系，是可以单独和Python线程使用的。  \n",
    "实现一个简单的机制来协调一个线程的终止  \n",
    "- *tf.train.Coordinator*  \n",
    "    - request_stop()\n",
    "    - should_stop()\n",
    "    - join(thread=None, stop_grace_period_sec=120),等待线程终止  \n",
    "      \n",
    "    - return：线程协调员实例"
   ]
  },
  {
   "cell_type": "code",
   "execution_count": 11,
   "metadata": {
    "ExecuteTime": {
     "end_time": "2019-02-28T03:10:08.083155Z",
     "start_time": "2019-02-28T03:10:07.941371Z"
    },
    "collapsed": true
   },
   "outputs": [
    {
     "name": "stdout",
     "output_type": "stream",
     "text": [
      "5.0\n",
      "14.0\n",
      "15.0\n",
      "15.0\n",
      "17.0\n",
      "18.0\n",
      "18.0\n",
      "20.0\n",
      "21.0\n",
      "22.0\n",
      "23.0\n",
      "23.0\n",
      "24.0\n",
      "25.0\n",
      "27.0\n",
      "27.0\n",
      "28.0\n",
      "30.0\n",
      "31.0\n",
      "31.0\n"
     ]
    }
   ],
   "source": [
    "with tf.Graph().as_default():\n",
    "    queue = tf.FIFOQueue(10, tf.float32)\n",
    "\n",
    "    var = tf.Variable(0.0)\n",
    "\n",
    "    # 实现自增\n",
    "    data = tf.assign_add(var, tf.constant(1.0))\n",
    "\n",
    "    en_q = queue.enqueue([data])\n",
    "\n",
    "    # 定义队列管理器op，指定多少个子线程，以及子线程的任务\n",
    "    qr = tf.train.QueueRunner(queue=queue, enqueue_ops=[en_q] * 2)\n",
    "\n",
    "    # 初始化变量op\n",
    "    init_op = tf.global_variables_initializer()\n",
    "\n",
    "    with tf.Session() as sess:\n",
    "        # 初始化变量\n",
    "        sess.run(init_op)\n",
    "        \n",
    "        # 开启线程协调器\n",
    "        coord = tf.train.Coordinator()\n",
    "        \n",
    "        # 开启子线程\n",
    "        threads = qr.create_threads(sess=sess, coord=coord, start=True)\n",
    "        \n",
    "        # 主线程，消费数据\n",
    "        for i in range(20):\n",
    "            print(sess.run(queue.dequeue()))\n",
    "        \n",
    "        # 回收\n",
    "        coord.request_stop()\n",
    "        coord.join(threads)"
   ]
  }
 ],
 "metadata": {
  "kernelspec": {
   "display_name": "Python 3",
   "language": "python",
   "name": "python3"
  },
  "language_info": {
   "codemirror_mode": {
    "name": "ipython",
    "version": 3
   },
   "file_extension": ".py",
   "mimetype": "text/x-python",
   "name": "python",
   "nbconvert_exporter": "python",
   "pygments_lexer": "ipython3",
   "version": "3.6.7"
  },
  "toc": {
   "base_numbering": 1,
   "nav_menu": {},
   "number_sections": true,
   "sideBar": true,
   "skip_h1_title": false,
   "title_cell": "Table of Contents",
   "title_sidebar": "Contents",
   "toc_cell": false,
   "toc_position": {},
   "toc_section_display": true,
   "toc_window_display": false
  },
  "varInspector": {
   "cols": {
    "lenName": 16,
    "lenType": 16,
    "lenVar": 40
   },
   "kernels_config": {
    "python": {
     "delete_cmd_postfix": "",
     "delete_cmd_prefix": "del ",
     "library": "var_list.py",
     "varRefreshCmd": "print(var_dic_list())"
    },
    "r": {
     "delete_cmd_postfix": ") ",
     "delete_cmd_prefix": "rm(",
     "library": "var_list.r",
     "varRefreshCmd": "cat(var_dic_list()) "
    }
   },
   "types_to_exclude": [
    "module",
    "function",
    "builtin_function_or_method",
    "instance",
    "_Feature"
   ],
   "window_display": false
  }
 },
 "nbformat": 4,
 "nbformat_minor": 2
}
