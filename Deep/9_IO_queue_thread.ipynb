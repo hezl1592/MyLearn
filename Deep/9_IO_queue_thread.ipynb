{
 "cells": [
  {
   "cell_type": "markdown",
   "metadata": {},
   "source": [
    "**TensorFlow多线程输入数据处理框架**  \n",
    "\n",
    "---\n",
    "当数据量很大时，入队操作从硬盘中读取数据，放入内存中，主线程需要等待入队操作完成，才能进行训练。会话中可以运行多个线程，实现异步读取。"
   ]
  },
  {
   "cell_type": "code",
   "execution_count": 1,
   "metadata": {
    "ExecuteTime": {
     "end_time": "2019-02-25T07:41:41.719519Z",
     "start_time": "2019-02-25T07:41:39.987691Z"
    }
   },
   "outputs": [],
   "source": [
    "import tensorflow as tf\n",
    "import os\n",
    "\n",
    "# 调整警告等级\n",
    "os.environ['TF_CPP_MIN_LOG_LEVEL'] = '2'"
   ]
  },
  {
   "cell_type": "markdown",
   "metadata": {},
   "source": [
    "## 队列\n",
    "----"
   ]
  },
  {
   "cell_type": "markdown",
   "metadata": {},
   "source": [
    "### 先进先出队列"
   ]
  },
  {
   "cell_type": "code",
   "execution_count": 2,
   "metadata": {
    "ExecuteTime": {
     "end_time": "2019-02-25T07:41:44.161449Z",
     "start_time": "2019-02-25T07:41:44.124524Z"
    },
    "collapsed": true
   },
   "outputs": [
    {
     "name": "stdout",
     "output_type": "stream",
     "text": [
      "1.1\n",
      "1.2\n",
      "1.3\n"
     ]
    }
   ],
   "source": [
    "with tf.Graph().as_default():\n",
    "    # 模拟一下同步先处理数据，然后才能取数据训练\n",
    "    # 1.首先定义一个队列\n",
    "    queue1 = tf.FIFOQueue(capacity=3, dtypes=tf.float32)\n",
    "\n",
    "    # 初始化，放入一些数据\n",
    "    init = queue1.enqueue_many([[0.1, 0.2, 0.3], ])\n",
    "\n",
    "    out_queue = queue1.dequeue()\n",
    "    data = out_queue + 1\n",
    "    en_queue = queue1.enqueue(data)\n",
    "\n",
    "    with tf.Session() as sess:\n",
    "        # 初始化队列\n",
    "        sess.run(init)\n",
    "\n",
    "        for i in range(3):\n",
    "            sess.run(en_queue)\n",
    "\n",
    "        # print(queue1.size().eval())\n",
    "\n",
    "        for i in range(queue1.size().eval()):\n",
    "            print(sess.run(out_queue))"
   ]
  },
  {
   "cell_type": "markdown",
   "metadata": {},
   "source": [
    "### 随机队列\n",
    "RandomShuffleQueue会 将队列中的元素打乱，每次出队列操作得到的是当前队列所有元素中随机选择的一个。"
   ]
  },
  {
   "cell_type": "code",
   "execution_count": 4,
   "metadata": {
    "ExecuteTime": {
     "end_time": "2019-02-25T07:42:43.242288Z",
     "start_time": "2019-02-25T07:42:43.197424Z"
    },
    "collapsed": true
   },
   "outputs": [
    {
     "name": "stdout",
     "output_type": "stream",
     "text": [
      "第1次实验\n",
      "  第1次弹出队列：0.4\n",
      "  第2次弹出队列：0.5\n",
      "  第3次弹出队列：0.3\n",
      "  第4次弹出队列：0.2\n",
      "  第5次弹出队列：0.1\n",
      "第2次实验\n",
      "  第1次弹出队列：0.2\n",
      "  第2次弹出队列：0.4\n",
      "  第3次弹出队列：0.1\n",
      "  第4次弹出队列：0.3\n",
      "  第5次弹出队列：0.5\n",
      "第3次实验\n",
      "  第1次弹出队列：0.5\n",
      "  第2次弹出队列：0.1\n",
      "  第3次弹出队列：0.4\n",
      "  第4次弹出队列：0.3\n",
      "  第5次弹出队列：0.2\n",
      "第4次实验\n",
      "  第1次弹出队列：0.5\n",
      "  第2次弹出队列：0.2\n",
      "  第3次弹出队列：0.3\n",
      "  第4次弹出队列：0.4\n",
      "  第5次弹出队列：0.1\n",
      "第5次实验\n",
      "  第1次弹出队列：0.1\n",
      "  第2次弹出队列：0.3\n",
      "  第3次弹出队列：0.2\n",
      "  第4次弹出队列：0.4\n",
      "  第5次弹出队列：0.5\n"
     ]
    }
   ],
   "source": [
    "with tf.Graph().as_default():\n",
    "    queue = tf.RandomShuffleQueue(capacity=5, min_after_dequeue=0, dtypes=tf.float32)\n",
    "\n",
    "    # 放入一些数据\n",
    "    init = queue.enqueue_many([[0.1, 0.2, 0.3, 0.4, 0.5], ])\n",
    "\n",
    "    out_queue = queue.dequeue()\n",
    "\n",
    "    with tf.Session() as sess:\n",
    "        for i in range(5):\n",
    "            sess.run(init)\n",
    "            print('第{}次实验'.format(i+1))\n",
    "\n",
    "            for m in range(queue.size().eval()):\n",
    "                x = sess.run(out_queue)\n",
    "                print('  第{}次弹出队列：{:.1f}'.format(m+1, x))"
   ]
  },
  {
   "cell_type": "markdown",
   "metadata": {},
   "source": [
    "## 线程（队列管理器）"
   ]
  },
  {
   "cell_type": "code",
   "execution_count": null,
   "metadata": {
    "ExecuteTime": {
     "start_time": "2019-02-25T08:11:21.498Z"
    }
   },
   "outputs": [],
   "source": [
    "with tf.Graph().as_default():\n",
    "    queue = tf.FIFOQueue(1000, tf.float32)\n",
    "\n",
    "    var = tf.Variable(0.0)\n",
    "\n",
    "    # 实现自增\n",
    "    data = tf.assign_add(var, tf.constant(1.0))\n",
    "\n",
    "    en_q = queue.enqueue([data])\n",
    "\n",
    "    # 定义队列管理器op，指定多少个子线程，以及子线程的任务\n",
    "    qr = tf.train.QueueRunner(queue=queue, enqueue_ops=[en_q] * 2)\n",
    "\n",
    "    # 初始化变量op\n",
    "    init_op = tf.global_variables_initializer()\n",
    "\n",
    "    with tf.Session() as sess:\n",
    "        # 初始化变量\n",
    "        sess.run(init_op)\n",
    "        \n",
    "        # 开启子线程\n",
    "        threads = qr.create_threads(sess, start=True)\n",
    "        \n",
    "        # 主线程，不断的读取数据\n",
    "        for i in range(300):\n",
    "            print(sess.run(queue.enqueue()))"
   ]
  },
  {
   "cell_type": "code",
   "execution_count": null,
   "metadata": {},
   "outputs": [],
   "source": []
  },
  {
   "cell_type": "code",
   "execution_count": null,
   "metadata": {},
   "outputs": [],
   "source": []
  },
  {
   "cell_type": "markdown",
   "metadata": {},
   "source": [
    "TensorFlow提供一种TFRecord来存储数据，TFRecord文件中的数据都是通过tf.train.Example Protocol Buffer的格式来存储。"
   ]
  },
  {
   "cell_type": "code",
   "execution_count": null,
   "metadata": {},
   "outputs": [],
   "source": []
  }
 ],
 "metadata": {
  "kernelspec": {
   "display_name": "Python 3",
   "language": "python",
   "name": "python3"
  },
  "language_info": {
   "codemirror_mode": {
    "name": "ipython",
    "version": 3
   },
   "file_extension": ".py",
   "mimetype": "text/x-python",
   "name": "python",
   "nbconvert_exporter": "python",
   "pygments_lexer": "ipython3",
   "version": "3.6.7"
  },
  "toc": {
   "base_numbering": 1,
   "nav_menu": {},
   "number_sections": true,
   "sideBar": true,
   "skip_h1_title": false,
   "title_cell": "Table of Contents",
   "title_sidebar": "Contents",
   "toc_cell": false,
   "toc_position": {},
   "toc_section_display": true,
   "toc_window_display": false
  },
  "varInspector": {
   "cols": {
    "lenName": 16,
    "lenType": 16,
    "lenVar": 40
   },
   "kernels_config": {
    "python": {
     "delete_cmd_postfix": "",
     "delete_cmd_prefix": "del ",
     "library": "var_list.py",
     "varRefreshCmd": "print(var_dic_list())"
    },
    "r": {
     "delete_cmd_postfix": ") ",
     "delete_cmd_prefix": "rm(",
     "library": "var_list.r",
     "varRefreshCmd": "cat(var_dic_list()) "
    }
   },
   "types_to_exclude": [
    "module",
    "function",
    "builtin_function_or_method",
    "instance",
    "_Feature"
   ],
   "window_display": false
  }
 },
 "nbformat": 4,
 "nbformat_minor": 2
}
